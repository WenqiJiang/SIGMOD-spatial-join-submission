{
 "cells": [
  {
   "cell_type": "code",
   "execution_count": 39,
   "metadata": {},
   "outputs": [],
   "source": [
    "import cuspatial\n",
    "import cudf\n",
    "import cupy\n",
    "import geopandas\n",
    "import time\n",
    "import pandas as pd\n",
    "import numpy as np\n",
    "from shapely.geometry import *\n",
    "from shapely import wkt"
   ]
  },
  {
   "attachments": {},
   "cell_type": "markdown",
   "metadata": {},
   "source": [
    "# GeoPandas - Load data\n",
    "\n",
    "Load from pandas df: https://geopandas.org/en/stable/gallery/create_geopandas_from_pandas.html\n",
    "\n",
    "Load data from file: https://geopandas.org/en/stable/getting_started/introduction.html"
   ]
  },
  {
   "attachments": {},
   "cell_type": "markdown",
   "metadata": {},
   "source": [
    "## point"
   ]
  },
  {
   "cell_type": "code",
   "execution_count": 40,
   "metadata": {},
   "outputs": [],
   "source": [
    "df = pd.DataFrame(\n",
    "    {\n",
    "        \"City\": [\"Buenos Aires\", \"Brasilia\", \"Santiago\", \"Bogota\", \"Caracas\"],\n",
    "        \"Country\": [\"Argentina\", \"Brazil\", \"Chile\", \"Colombia\", \"Venezuela\"],\n",
    "        \"Latitude\": [-34.58, -15.78, -33.45, 4.60, 10.48],\n",
    "        \"Longitude\": [-58.66, -47.91, -70.66, -74.08, -66.86],\n",
    "    }\n",
    ")"
   ]
  },
  {
   "cell_type": "code",
   "execution_count": 41,
   "metadata": {},
   "outputs": [],
   "source": [
    "gdf = geopandas.GeoDataFrame(\n",
    "    df, geometry=geopandas.points_from_xy(df.Longitude, df.Latitude), crs=\"EPSG:4326\"\n",
    ")"
   ]
  },
  {
   "cell_type": "code",
   "execution_count": 42,
   "metadata": {},
   "outputs": [
    {
     "data": {
      "text/html": [
       "<div>\n",
       "<style scoped>\n",
       "    .dataframe tbody tr th:only-of-type {\n",
       "        vertical-align: middle;\n",
       "    }\n",
       "\n",
       "    .dataframe tbody tr th {\n",
       "        vertical-align: top;\n",
       "    }\n",
       "\n",
       "    .dataframe thead th {\n",
       "        text-align: right;\n",
       "    }\n",
       "</style>\n",
       "<table border=\"1\" class=\"dataframe\">\n",
       "  <thead>\n",
       "    <tr style=\"text-align: right;\">\n",
       "      <th></th>\n",
       "      <th>City</th>\n",
       "      <th>Country</th>\n",
       "      <th>Latitude</th>\n",
       "      <th>Longitude</th>\n",
       "      <th>geometry</th>\n",
       "    </tr>\n",
       "  </thead>\n",
       "  <tbody>\n",
       "    <tr>\n",
       "      <th>0</th>\n",
       "      <td>Buenos Aires</td>\n",
       "      <td>Argentina</td>\n",
       "      <td>-34.58</td>\n",
       "      <td>-58.66</td>\n",
       "      <td>POINT (-58.66000 -34.58000)</td>\n",
       "    </tr>\n",
       "    <tr>\n",
       "      <th>1</th>\n",
       "      <td>Brasilia</td>\n",
       "      <td>Brazil</td>\n",
       "      <td>-15.78</td>\n",
       "      <td>-47.91</td>\n",
       "      <td>POINT (-47.91000 -15.78000)</td>\n",
       "    </tr>\n",
       "    <tr>\n",
       "      <th>2</th>\n",
       "      <td>Santiago</td>\n",
       "      <td>Chile</td>\n",
       "      <td>-33.45</td>\n",
       "      <td>-70.66</td>\n",
       "      <td>POINT (-70.66000 -33.45000)</td>\n",
       "    </tr>\n",
       "    <tr>\n",
       "      <th>3</th>\n",
       "      <td>Bogota</td>\n",
       "      <td>Colombia</td>\n",
       "      <td>4.60</td>\n",
       "      <td>-74.08</td>\n",
       "      <td>POINT (-74.08000 4.60000)</td>\n",
       "    </tr>\n",
       "    <tr>\n",
       "      <th>4</th>\n",
       "      <td>Caracas</td>\n",
       "      <td>Venezuela</td>\n",
       "      <td>10.48</td>\n",
       "      <td>-66.86</td>\n",
       "      <td>POINT (-66.86000 10.48000)</td>\n",
       "    </tr>\n",
       "  </tbody>\n",
       "</table>\n",
       "</div>"
      ],
      "text/plain": [
       "           City    Country  Latitude  Longitude                     geometry\n",
       "0  Buenos Aires  Argentina    -34.58     -58.66  POINT (-58.66000 -34.58000)\n",
       "1      Brasilia     Brazil    -15.78     -47.91  POINT (-47.91000 -15.78000)\n",
       "2      Santiago      Chile    -33.45     -70.66  POINT (-70.66000 -33.45000)\n",
       "3        Bogota   Colombia      4.60     -74.08    POINT (-74.08000 4.60000)\n",
       "4       Caracas  Venezuela     10.48     -66.86   POINT (-66.86000 10.48000)"
      ]
     },
     "execution_count": 42,
     "metadata": {},
     "output_type": "execute_result"
    }
   ],
   "source": [
    "gdf"
   ]
  },
  {
   "attachments": {},
   "cell_type": "markdown",
   "metadata": {},
   "source": [
    "### using wkt"
   ]
  },
  {
   "cell_type": "code",
   "execution_count": 43,
   "metadata": {},
   "outputs": [],
   "source": [
    "point_df = pd.DataFrame(\n",
    "    {\n",
    "        \"City\": [\"Buenos Aires\", \"Brasilia\", \"Santiago\", \"Bogota\", \"Caracas\"],\n",
    "        \"Country\": [\"Argentina\", \"Brazil\", \"Chile\", \"Colombia\", \"Venezuela\"],\n",
    "        \"geometry\": [\n",
    "            \"POINT(-58.66 -34.58)\",\n",
    "            \"POINT(-47.91 -15.78)\",\n",
    "            \"POINT(-70.66 -33.45)\",\n",
    "            \"POINT(-74.08 4.60)\",\n",
    "            \"POINT(-66.86 10.48)\",\n",
    "        ],\n",
    "    }\n",
    ")"
   ]
  },
  {
   "cell_type": "code",
   "execution_count": 44,
   "metadata": {},
   "outputs": [
    {
     "name": "stdout",
     "output_type": "stream",
     "text": [
      "           City    Country                     geometry\n",
      "0  Buenos Aires  Argentina  POINT (-58.66000 -34.58000)\n",
      "1      Brasilia     Brazil  POINT (-47.91000 -15.78000)\n",
      "2      Santiago      Chile  POINT (-70.66000 -33.45000)\n",
      "3        Bogota   Colombia    POINT (-74.08000 4.60000)\n",
      "4       Caracas  Venezuela   POINT (-66.86000 10.48000)\n"
     ]
    }
   ],
   "source": [
    "point_df[\"geometry\"] = geopandas.GeoSeries.from_wkt(point_df[\"geometry\"])\n",
    "point_gdf = geopandas.GeoDataFrame(point_df, geometry=\"geometry\")\n",
    "\n",
    "print(point_gdf.head())"
   ]
  },
  {
   "cell_type": "code",
   "execution_count": 45,
   "metadata": {},
   "outputs": [
    {
     "name": "stdout",
     "output_type": "stream",
     "text": [
      "<class 'shapely.geometry.point.Point'>\n",
      "(array('d', [-58.66]), array('d', [-34.58]))\n",
      "-58.66\n",
      "-34.58\n"
     ]
    }
   ],
   "source": [
    "print(type(point_gdf['geometry'][0]))\n",
    "print(point_gdf['geometry'][0].xy)\n",
    "print(point_gdf['geometry'][0].xy[0][0])\n",
    "print(point_gdf['geometry'][0].xy[1][0])"
   ]
  },
  {
   "cell_type": "code",
   "execution_count": 46,
   "metadata": {},
   "outputs": [],
   "source": [
    "def get_point_xy(point):\n",
    "    \"\"\"\n",
    "    Input: \n",
    "        type: shapely.geometry.polygon.Point, e.g., point_gdf['geometry'][0]\n",
    "    Output:\n",
    "        x, y\n",
    "    \"\"\"\n",
    "    x = point.xy[0][0]\n",
    "    y = point.xy[1][0]\n",
    "    return x, y"
   ]
  },
  {
   "cell_type": "code",
   "execution_count": 47,
   "metadata": {},
   "outputs": [],
   "source": [
    "def get_point_boundaries(point_column):\n",
    "    \"\"\"\n",
    "    Input: \n",
    "        a list (column) of shapely.geometry.polygon.Point, e.g., point_gdf['geometry']\n",
    "    Output:\n",
    "        x_min, x_max, y_min, y_max\n",
    "    \"\"\"\n",
    "    x_list_all, y_list_all = [], []\n",
    "    for point in point_column:\n",
    "        x, y = get_point_xy(point)\n",
    "        x_list_all.append(x)\n",
    "        y_list_all.append(y)\n",
    "    x_min = np.amin(x_list_all)\n",
    "    x_max = np.amax(x_list_all)\n",
    "    y_min = np.amin(y_list_all)\n",
    "    y_max = np.amax(y_list_all)\n",
    "    return x_min, x_max, y_min, y_max"
   ]
  },
  {
   "cell_type": "code",
   "execution_count": 48,
   "metadata": {},
   "outputs": [
    {
     "data": {
      "text/plain": [
       "(-58.66, -34.58)"
      ]
     },
     "execution_count": 48,
     "metadata": {},
     "output_type": "execute_result"
    }
   ],
   "source": [
    "get_point_xy(point_gdf['geometry'][0])"
   ]
  },
  {
   "cell_type": "code",
   "execution_count": 49,
   "metadata": {},
   "outputs": [
    {
     "data": {
      "text/plain": [
       "(-74.08, -47.91, -34.58, 10.48)"
      ]
     },
     "execution_count": 49,
     "metadata": {},
     "output_type": "execute_result"
    }
   ],
   "source": [
    "get_point_boundaries(point_gdf['geometry'])"
   ]
  },
  {
   "attachments": {},
   "cell_type": "markdown",
   "metadata": {},
   "source": [
    "## Polygon with WKT"
   ]
  },
  {
   "cell_type": "code",
   "execution_count": 50,
   "metadata": {},
   "outputs": [],
   "source": [
    "polygon_df = pd.DataFrame(\n",
    "    {\n",
    "        \"City\": [\"Buenos Aires\", \"Brasilia\", \"Santiago\", \"Bogota\", \"Caracas\"],\n",
    "        \"Country\": [\"Argentina\", \"Brazil\", \"Chile\", \"Colombia\", \"Venezuela\"],\n",
    "        \"geometry\": [\n",
    "            \"POLYGON((13.7398334 51.0523423, 13.7398334 51.0532229, 13.741235 51.0532229, 13.741235 51.0523423, 13.7398334 51.0523423))\",\n",
    "            \"POLYGON((13.7371957 51.0487779, 13.7371957 51.0489591, 13.7375362 51.0489591, 13.7375362 51.0487779, 13.7371957 51.0487779))\",\n",
    "            \"POLYGON((24.9524119 60.1720899, 24.9524119 60.1722463, 24.9527577 60.1722463, 24.9527577 60.1720899, 24.9524119 60.1720899))\",\n",
    "            \"POLYGON((8.9897244 48.6797103, 8.9897244 48.6810064, 8.9920898 48.6810064, 8.9920898 48.6797103, 8.9897244 48.6797103))\",\n",
    "            \"POLYGON((27.4414033 53.9137695, 27.4414033 53.9139195, 27.4415883 53.9139195, 27.4415883 53.9137695, 27.4414033 53.9137695))\",\n",
    "        ],\n",
    "    }\n",
    ")"
   ]
  },
  {
   "cell_type": "code",
   "execution_count": 51,
   "metadata": {},
   "outputs": [
    {
     "name": "stdout",
     "output_type": "stream",
     "text": [
      "           City    Country                                           geometry\n",
      "0  Buenos Aires  Argentina  POLYGON ((13.73983 51.05234, 13.73983 51.05322...\n",
      "1      Brasilia     Brazil  POLYGON ((13.73720 51.04878, 13.73720 51.04896...\n",
      "2      Santiago      Chile  POLYGON ((24.95241 60.17209, 24.95241 60.17225...\n",
      "3        Bogota   Colombia  POLYGON ((8.98972 48.67971, 8.98972 48.68101, ...\n",
      "4       Caracas  Venezuela  POLYGON ((27.44140 53.91377, 27.44140 53.91392...\n"
     ]
    }
   ],
   "source": [
    "polygon_df[\"geometry\"] = geopandas.GeoSeries.from_wkt(polygon_df[\"geometry\"])\n",
    "polygon_gdf = geopandas.GeoDataFrame(polygon_df, geometry=\"geometry\")\n",
    "print(polygon_gdf.head())"
   ]
  },
  {
   "cell_type": "code",
   "execution_count": 52,
   "metadata": {},
   "outputs": [
    {
     "name": "stdout",
     "output_type": "stream",
     "text": [
      "<class 'shapely.geometry.polygon.Polygon'>\n",
      "POLYGON ((13.7398334 51.0523423, 13.7398334 51.0532229, 13.741235 51.0532229, 13.741235 51.0523423, 13.7398334 51.0523423))\n",
      "(array('d', [13.7398334, 13.7398334, 13.741235, 13.741235, 13.7398334]), array('d', [51.0523423, 51.0532229, 51.0532229, 51.0523423, 51.0523423]))\n"
     ]
    }
   ],
   "source": [
    "print(type(polygon_gdf['geometry'][0]))\n",
    "print(polygon_gdf['geometry'][0])\n",
    "print(polygon_gdf['geometry'][0].exterior.coords.xy)"
   ]
  },
  {
   "cell_type": "code",
   "execution_count": 53,
   "metadata": {},
   "outputs": [
    {
     "name": "stdout",
     "output_type": "stream",
     "text": [
      "13.7398334\n",
      "13.7398334\n",
      "13.741235\n",
      "13.741235\n",
      "13.7398334\n"
     ]
    }
   ],
   "source": [
    "for e in polygon_gdf['geometry'][0].exterior.coords.xy[0]:\n",
    "    print(e)"
   ]
  },
  {
   "cell_type": "code",
   "execution_count": 54,
   "metadata": {},
   "outputs": [
    {
     "name": "stdout",
     "output_type": "stream",
     "text": [
      "51.0523423\n",
      "51.0532229\n",
      "51.0532229\n",
      "51.0523423\n",
      "51.0523423\n"
     ]
    }
   ],
   "source": [
    "for e in polygon_gdf['geometry'][0].exterior.coords.xy[1]:\n",
    "    print(e)"
   ]
  },
  {
   "cell_type": "code",
   "execution_count": 55,
   "metadata": {},
   "outputs": [],
   "source": [
    "def get_polygon_xy_list(polygon):\n",
    "    \"\"\"\n",
    "    Input: \n",
    "        type: shapely.geometry.polygon.Polygon, e.g., polygon_gdf['geometry'][0]\n",
    "    Output:\n",
    "        x_list, y_list. Each is a list of coordinates on x and y.\n",
    "    \"\"\"\n",
    "    x_list = []\n",
    "    y_list = []\n",
    "    for e in polygon.exterior.coords.xy[0]:\n",
    "        x_list.append(e)\n",
    "    for e in polygon.exterior.coords.xy[1]:\n",
    "        y_list.append(e)\n",
    "    return x_list, y_list"
   ]
  },
  {
   "cell_type": "code",
   "execution_count": 56,
   "metadata": {},
   "outputs": [],
   "source": [
    "def get_polygon_boundaries(polygon_column):\n",
    "    \"\"\"\n",
    "    Input: \n",
    "        a list (column) of shapely.geometry.polygon.Polygon, e.g., polygon_gdf['geometry']\n",
    "    Output:\n",
    "        x_min, x_max, y_min, y_max\n",
    "    \"\"\"\n",
    "    x_list_all, y_list_all = [], []\n",
    "    for polygon in polygon_column:\n",
    "        x_list, y_list = get_polygon_xy_list(polygon)\n",
    "        x_list_all += x_list\n",
    "        y_list_all += y_list\n",
    "    x_min = np.amin(x_list_all)\n",
    "    x_max = np.amax(x_list_all)\n",
    "    y_min = np.amin(y_list_all)\n",
    "    y_max = np.amax(y_list_all)\n",
    "    return x_min, x_max, y_min, y_max"
   ]
  },
  {
   "cell_type": "code",
   "execution_count": 57,
   "metadata": {},
   "outputs": [
    {
     "data": {
      "text/plain": [
       "([13.7398334, 13.7398334, 13.741235, 13.741235, 13.7398334],\n",
       " [51.0523423, 51.0532229, 51.0532229, 51.0523423, 51.0523423])"
      ]
     },
     "execution_count": 57,
     "metadata": {},
     "output_type": "execute_result"
    }
   ],
   "source": [
    "get_polygon_xy_list(polygon_gdf['geometry'][0])"
   ]
  },
  {
   "cell_type": "code",
   "execution_count": 58,
   "metadata": {},
   "outputs": [
    {
     "name": "stdout",
     "output_type": "stream",
     "text": [
      "x_min, x_max, y_min, y_max:  8.9897244 27.4415883 48.6797103 60.1722463\n"
     ]
    }
   ],
   "source": [
    "x_min, x_max, y_min, y_max = get_polygon_boundaries(polygon_gdf['geometry'])\n",
    "print(\"x_min, x_max, y_min, y_max: \", x_min, x_max, y_min, y_max)"
   ]
  },
  {
   "attachments": {},
   "cell_type": "markdown",
   "metadata": {},
   "source": [
    "## Load from CSV"
   ]
  },
  {
   "cell_type": "code",
   "execution_count": 59,
   "metadata": {},
   "outputs": [],
   "source": [
    "def load_geodf(path):\n",
    "    \"\"\"\n",
    "    Load a csv file first as pandas dataframe, then convert it to geopandas df.\n",
    "    Note: the input file must has the geometry column\n",
    "    \"\"\"\n",
    "    dtype = {\"geometry\": str}\n",
    "    df = pd.read_csv(path, dtype=dtype)\n",
    "    df[\"geometry\"] = geopandas.GeoSeries.from_wkt(df[\"geometry\"])\n",
    "    gdf = geopandas.GeoDataFrame(df, geometry=\"geometry\")\n",
    "    \n",
    "    return gdf"
   ]
  },
  {
   "cell_type": "code",
   "execution_count": 60,
   "metadata": {},
   "outputs": [
    {
     "name": "stdout",
     "output_type": "stream",
     "text": [
      "   gid                   geometry\n",
      "0    1  POINT (6964.700 1060.660)\n",
      "1    2  POINT (2861.400 7454.720)\n",
      "2    3  POINT (2268.520 5723.150)\n",
      "3    4  POINT (5513.160 4582.420)\n",
      "4    5  POINT (7194.700 3847.070)\n"
     ]
    }
   ],
   "source": [
    "point_gdf = load_geodf(\"./files/points.csv\")\n",
    "print(point_gdf.head())"
   ]
  },
  {
   "cell_type": "code",
   "execution_count": 61,
   "metadata": {},
   "outputs": [
    {
     "name": "stdout",
     "output_type": "stream",
     "text": [
      "   gid                                           geometry\n",
      "0    1  POLYGON ((6964.690 1060.650, 6964.690 1061.650...\n",
      "1    2  POLYGON ((2861.390 7454.710, 2861.390 7455.710...\n",
      "2    3  POLYGON ((2268.510 5723.140, 2268.510 5724.140...\n",
      "3    4  POLYGON ((5513.150 4582.410, 5513.150 4583.410...\n",
      "4    5  POLYGON ((7194.690 3847.060, 7194.690 3848.060...\n"
     ]
    }
   ],
   "source": [
    "polygon_gdf = load_geodf(\"./files/polygons.csv\")\n",
    "print(polygon_gdf.head())"
   ]
  },
  {
   "attachments": {},
   "cell_type": "markdown",
   "metadata": {},
   "source": [
    "# Join example"
   ]
  },
  {
   "attachments": {},
   "cell_type": "markdown",
   "metadata": {},
   "source": []
  },
  {
   "cell_type": "code",
   "execution_count": 62,
   "metadata": {},
   "outputs": [
    {
     "name": "stdout",
     "output_type": "stream",
     "text": [
      "                                            geometry\n",
      "0  POLYGON ((6964.690 1060.650, 6964.690 1061.650...\n",
      "1  POLYGON ((2861.390 7454.710, 2861.390 7455.710...\n",
      "2  POLYGON ((2268.510 5723.140, 2268.510 5724.140...\n",
      "3  POLYGON ((5513.150 4582.410, 5513.150 4583.410...\n",
      "4  POLYGON ((7194.690 3847.060, 7194.690 3848.060...\n"
     ]
    }
   ],
   "source": [
    "polygon_df = pd.DataFrame(\n",
    "    {\n",
    "        \"geometry\": [\n",
    "\t\t\t\"POLYGON((6964.69 1060.65, 6964.69 1061.65, 6965.69 1061.65, 6965.69 1060.65, 6964.69 1060.65))\",\n",
    "\t\t\t\"POLYGON((2861.39 7454.71, 2861.39 7455.71, 2862.39 7455.71, 2862.39 7454.71, 2861.39 7454.71))\",\n",
    "\t\t\t\"POLYGON((2268.51 5723.14, 2268.51 5724.14, 2269.51 5724.14, 2269.51 5723.14, 2268.51 5723.14))\",\n",
    "\t\t\t\"POLYGON((5513.15 4582.41, 5513.15 4583.41, 5514.15 4583.41, 5514.15 4582.41, 5513.15 4582.41))\",\n",
    "\t\t\t\"POLYGON((7194.69 3847.06, 7194.69 3848.06, 7195.69 3848.06, 7195.69 3847.06, 7194.69 3847.06))\",\n",
    "        ],\n",
    "    }\n",
    ")\n",
    "\n",
    "polygon_df[\"geometry\"] = geopandas.GeoSeries.from_wkt(polygon_df[\"geometry\"])\n",
    "polygon_gdf = geopandas.GeoDataFrame(polygon_df, geometry=\"geometry\")\n",
    "print(polygon_gdf)"
   ]
  },
  {
   "cell_type": "code",
   "execution_count": 63,
   "metadata": {},
   "outputs": [
    {
     "name": "stdout",
     "output_type": "stream",
     "text": [
      "                    geometry\n",
      "0  POINT (6964.700 1060.660)\n",
      "1  POINT (2861.400 7454.720)\n",
      "2  POINT (2268.520 5723.150)\n",
      "3  POINT (5513.160 4582.420)\n",
      "4  POINT (7194.700 3847.070)\n",
      "5  POINT (7194.710 3847.080)\n"
     ]
    }
   ],
   "source": [
    "point_df = pd.DataFrame(\n",
    "    {\n",
    "        \"geometry\": [\n",
    "\t\t\t# left lower corner + 0.01\n",
    "            \"POINT(6964.70 1060.66)\",\n",
    "            \"POINT(2861.40 7454.72)\",\n",
    "            \"POINT(2268.52 5723.15)\",\n",
    "            \"POINT(5513.16 4582.42)\",\n",
    "            \"POINT(7194.70 3847.07)\",\n",
    "            \"POINT(7194.71 3847.08)\",\n",
    "\n",
    "\t\t\t# original left lower corner\n",
    "            # \"POINT(6964.69 1060.65)\",\n",
    "            # \"POINT(2861.39 7454.71)\",\n",
    "            # \"POINT(2268.51 5723.14)\",\n",
    "            # \"POINT(5513.15 4582.41)\",\n",
    "            # \"POINT(7194.69 3847.06)\",\n",
    "        ],\n",
    "    }\n",
    ")\n",
    "\n",
    "point_df[\"geometry\"] = geopandas.GeoSeries.from_wkt(point_df[\"geometry\"])\n",
    "point_gdf = geopandas.GeoDataFrame(point_df, geometry=\"geometry\")\n",
    "print(point_gdf)"
   ]
  },
  {
   "cell_type": "code",
   "execution_count": 64,
   "metadata": {},
   "outputs": [
    {
     "name": "stdout",
     "output_type": "stream",
     "text": [
      "<class 'cuspatial.core.geoseries.GeoSeries'>\n",
      "<class 'cuspatial.core.geoseries.GeoSeries'>\n"
     ]
    }
   ],
   "source": [
    "gpu_polygon_df = cuspatial.from_geopandas(polygon_gdf)\n",
    "gpu_point_df = cuspatial.from_geopandas(point_gdf)\n",
    "polygons_gpu = gpu_polygon_df['geometry']\n",
    "points_gpu = gpu_point_df['geometry']\n",
    "print(type(polygons_gpu))\n",
    "print(type(points_gpu))"
   ]
  },
  {
   "cell_type": "code",
   "execution_count": 65,
   "metadata": {},
   "outputs": [
    {
     "data": {
      "text/plain": [
       "0    POINT (6964.700 1060.660)\n",
       "1    POINT (2861.400 7454.720)\n",
       "2    POINT (2268.520 5723.150)\n",
       "3    POINT (5513.160 4582.420)\n",
       "4    POINT (7194.700 3847.070)\n",
       "5    POINT (7194.710 3847.080)\n",
       "Name: geometry, dtype: geometry"
      ]
     },
     "execution_count": 65,
     "metadata": {},
     "output_type": "execute_result"
    }
   ],
   "source": [
    "points_gpu"
   ]
  },
  {
   "cell_type": "code",
   "execution_count": 66,
   "metadata": {},
   "outputs": [
    {
     "data": {
      "text/plain": [
       "0    POLYGON ((6964.690 1060.650, 6964.690 1061.650...\n",
       "1    POLYGON ((2861.390 7454.710, 2861.390 7455.710...\n",
       "2    POLYGON ((2268.510 5723.140, 2268.510 5724.140...\n",
       "3    POLYGON ((5513.150 4582.410, 5513.150 4583.410...\n",
       "4    POLYGON ((7194.690 3847.060, 7194.690 3848.060...\n",
       "Name: geometry, dtype: geometry"
      ]
     },
     "execution_count": 66,
     "metadata": {},
     "output_type": "execute_result"
    }
   ],
   "source": [
    "polygons_gpu"
   ]
  },
  {
   "attachments": {},
   "cell_type": "markdown",
   "metadata": {},
   "source": [
    "## Unindexed Join"
   ]
  },
  {
   "cell_type": "code",
   "execution_count": 67,
   "metadata": {},
   "outputs": [
    {
     "name": "stdout",
     "output_type": "stream",
     "text": [
      "       0      1      2      3      4\n",
      "0   True  False  False  False  False\n",
      "1  False   True  False  False  False\n",
      "2  False  False   True  False  False\n",
      "3  False  False  False   True  False\n",
      "4  False  False  False  False   True\n"
     ]
    }
   ],
   "source": [
    "points_in_polygon = cuspatial.point_in_polygon(\n",
    "    points_gpu, polygons_gpu\n",
    ")\n",
    "print(points_in_polygon.head())"
   ]
  },
  {
   "cell_type": "code",
   "execution_count": 68,
   "metadata": {},
   "outputs": [
    {
     "name": "stdout",
     "output_type": "stream",
     "text": [
      "0    1\n",
      "1    1\n",
      "2    1\n",
      "3    1\n",
      "4    2\n",
      "dtype: int64\n",
      "total pairs: 6\n"
     ]
    }
   ],
   "source": [
    "sum_of_points_in_polygons = points_in_polygon.sum()\n",
    "print(sum_of_points_in_polygons)\n",
    "print('total pairs:', sum_of_points_in_polygons.sum())"
   ]
  },
  {
   "attachments": {},
   "cell_type": "markdown",
   "metadata": {},
   "source": [
    "Seems point intersection does not count in cuspatial. "
   ]
  },
  {
   "attachments": {},
   "cell_type": "markdown",
   "metadata": {},
   "source": [
    "## Indexed Join\n",
    "\n",
    "Procedure:\n",
    "1. Construct a quadtree based on the points\n",
    "2. Intersect the polygons and the quadtree leaves, record all intersection\n",
    "3. For each leaf, nested loop join between the points and the intersected polygons\n",
    "\n",
    "Seems all steps happen on GPU thanks to the very regular quadtree architecture. \n"
   ]
  },
  {
   "cell_type": "code",
   "execution_count": 69,
   "metadata": {},
   "outputs": [
    {
     "name": "stdout",
     "output_type": "stream",
     "text": [
      "2268.52 7194.71 1060.66 7454.72\n",
      "2268.51 7195.69 1060.65 7455.71\n"
     ]
    }
   ],
   "source": [
    "\"\"\"\n",
    "x_min, x_max, y_min, y_max, scale must be consistent on quadtree construction (quadtree_on_points) and join (join_quadtree_and_bounding_boxes)\n",
    "There official document uses different values thus lead to bugs...\n",
    "\"\"\"\n",
    "\n",
    "point_x_min, point_x_max, point_y_min, point_y_max = get_point_boundaries(point_gdf['geometry'])\n",
    "polygon_x_min, polygon_x_max, polygon_y_min, polygon_y_max = get_polygon_boundaries(polygon_gdf['geometry'])\n",
    "x_min = np.amin([point_x_min, polygon_x_min])\n",
    "x_max = np.amax([point_x_max, polygon_x_max])\n",
    "y_min = np.amin([point_y_min, polygon_y_min])\n",
    "y_max = np.amax([point_y_max, polygon_y_max])\n",
    "print(point_x_min, point_x_max, point_y_min, point_y_max)\n",
    "print(polygon_x_min, polygon_x_max, polygon_y_min, polygon_y_max)"
   ]
  },
  {
   "attachments": {},
   "cell_type": "markdown",
   "metadata": {},
   "source": [
    "quadtree_on_points\n",
    "\n",
    "https://github.com/rapidsai/cuspatial/blob/branch-23.06/python/cuspatial/cuspatial/core/spatial/indexing.py#L15\n",
    "\n",
    "Seems the index is constructed on GPU as well:\n",
    "https://github.com/rapidsai/cuspatial/blob/branch-23.06/cpp/src/indexing/point_quadtree.cu \n",
    "\n",
    "\n",
    "The function uses a set of points and a user-defined bounding box to build an\n",
    "indexing quad tree. Be sure to adjust the parameters appropriately, with larger\n",
    "parameter values for larger datasets.\n",
    "\n",
    "scale: A scaling function that increases the size of the point space from an\n",
    "origin defined by {x_min, y_min}. This can increase the likelihood of generating\n",
    "well-separated quads.\n",
    "\n",
    "max_depth: In order for a quadtree to index points effectively, it must have a depth that is log-scaled with the size of the number of points. Each level of the quad tree contains 4 quads. The number of available quads for indexing is then equal to 4^d where d is the max_depth parameter. With an input size\n",
    "of 10m points and max_depth = 7, 1e7/(4^7)=610 points will be most efficiently packed into the leaves of the quad tree.\n",
    "\n",
    "max_size: The maximum number of points allowed in an internal node before it is split into four leaf notes. As the quadtree is generated, a leaf node containing usable index points will be created as points are added. If the number of points in this leaf exceeds max_size, the leaf will be subdivided, with four new leaves added and the original node removed from the set of leaves. This number is probably optimized in most datasets by making it a significant fraction of the optimal leaf size computation from above. Consider leaf_size / 4 -> 1e7/(4^7)/4=153.\n",
    "\n",
    "Wenqi: they set the min scale as `min_scale = max(x_max - x_min, y_max - y_min) / ((1 << max_depth) + 2)`, we can just reuse this setup.\n",
    "\n",
    "Wenqi: maybe, according to this example, a good method is to, given a dataset size, first choose the maximum level by constraining the average number of points per leaf. Then, we set the max_size of inner nodes, which can be 1/4 of the average number of points per leaf."
   ]
  },
  {
   "cell_type": "code",
   "execution_count": 70,
   "metadata": {},
   "outputs": [],
   "source": [
    "def get_tree_parameters(n_points, avg_leaf_size, x_min, x_max, y_min, y_max):\n",
    "    \"\"\"\n",
    "    Given the number of points to index, and an average leaf_size, return the tree settings:\n",
    "        scale (some normalization parameters), max_depth (tree depth), max_size (inner node size)\n",
    "    \"\"\"\n",
    "    max_depth = 2\n",
    "    while True:\n",
    "        if avg_leaf_size * (4 ** max_depth) >= n_points:\n",
    "            break\n",
    "        else:\n",
    "            max_depth += 1\n",
    "    \n",
    "    max_size = avg_leaf_size // 4\n",
    "    scale = int(max(x_max - x_min, y_max - y_min) / ((1 << max_depth) + 2)) * 10\n",
    "    print('Set the scale to the default x10, otherwise there are cases where results are 0 on large datasets')\n",
    "    # scale = int(max(x_max - x_min, y_max - y_min) / ((1 << max_depth) + 2)) + 1\n",
    "    \n",
    "    return scale, max_depth, max_size\n",
    "    "
   ]
  },
  {
   "cell_type": "code",
   "execution_count": 71,
   "metadata": {},
   "outputs": [
    {
     "name": "stdout",
     "output_type": "stream",
     "text": [
      "Set the scale to the default x10, otherwise there are cases where results are 0 on large datasets\n",
      "scale: 10650 max_depth: 2 max_size: 256\n"
     ]
    }
   ],
   "source": [
    "# quadtree on points\n",
    "# Note, this code block cannot be run repetitively, because the older index will already reside in GPU memory. Rerun the ipynb kernel before rerun this block\n",
    "n_points = point_gdf['geometry'].count()\n",
    "avg_leaf_size = 1024\n",
    "scale, max_depth, max_size = get_tree_parameters(n_points, avg_leaf_size, x_min, x_max, y_min, y_max)\n",
    "# scale = 1\n",
    "# max_depth = 7\n",
    "# max_size = 125\n",
    "print(f\"scale: {scale} max_depth: {max_depth} max_size: {max_size}\")\n",
    "point_indices, quadtree = cuspatial.quadtree_on_points(points_gpu,\n",
    "                                                       x_min,\n",
    "                                                       x_max,\n",
    "                                                       y_min,\n",
    "                                                       y_max,\n",
    "                                                       scale,\n",
    "                                                       max_depth,\n",
    "                                                       max_size)"
   ]
  },
  {
   "cell_type": "code",
   "execution_count": 72,
   "metadata": {},
   "outputs": [
    {
     "name": "stdout",
     "output_type": "stream",
     "text": [
      "0    0\n",
      "1    1\n",
      "2    2\n",
      "3    3\n",
      "4    4\n",
      "dtype: uint32\n",
      "   key  level  is_internal_node  length  offset\n",
      "0    0      0             False       6       0\n"
     ]
    }
   ],
   "source": [
    "print(point_indices.head())\n",
    "print(quadtree.head())"
   ]
  },
  {
   "attachments": {},
   "cell_type": "markdown",
   "metadata": {},
   "source": [
    "join_quadtree_and_bounding_boxes\n",
    "\n",
    "https://github.com/rapidsai/cuspatial/blob/branch-23.06/python/cuspatial/cuspatial/core/spatial/join.py#L98\n",
    "\n",
    "Search a quadtree for polygon or linestring bounding box intersections.\n",
    "\n",
    "result : cudf.DataFrame\n",
    "\tIndices for each intersecting bounding box and leaf quadrant.\n",
    "\n",
    "\tbbox_offset : cudf.Series\n",
    "\t\tIndices for each bbox that intersects with the quadtree.\n",
    "\tquad_offset : cudf.Series\n",
    "\t\tIndices for each leaf quadrant intersecting with a poly bbox.\n",
    "\n",
    "CUDA kernel:\n",
    "\n",
    "https://github.com/rapidsai/cuspatial/blob/branch-23.06/cpp/src/join/quadtree_bbox_filtering.cu"
   ]
  },
  {
   "cell_type": "code",
   "execution_count": 73,
   "metadata": {},
   "outputs": [
    {
     "name": "stdout",
     "output_type": "stream",
     "text": [
      "   key  level  is_internal_node  length  offset\n",
      "0    0      0             False       6       0\n",
      "      minx     miny     maxx     maxy\n",
      "0  6964.69  1060.65  6965.69  1061.65\n",
      "1  2861.39  7454.71  2862.39  7455.71\n",
      "2  2268.51  5723.14  2269.51  5724.14\n",
      "3  5513.15  4582.41  5514.15  4583.41\n",
      "4  7194.69  3847.06  7195.69  3848.06\n",
      "10650\n",
      "2\n",
      "   bbox_offset  quad_offset\n",
      "0            0            0\n",
      "1            1            0\n",
      "2            2            0\n",
      "3            3            0\n",
      "4            4            0\n"
     ]
    }
   ],
   "source": [
    "poly_bboxes = cuspatial.polygon_bounding_boxes(\n",
    "    polygons_gpu\n",
    ")\n",
    "print(quadtree)\n",
    "print(poly_bboxes)\n",
    "print(scale)\n",
    "print(max_depth)\n",
    "# Intersects the polygon bounding box and the quad tree\n",
    "intersections = cuspatial.join_quadtree_and_bounding_boxes(\n",
    "    quadtree,\n",
    "    poly_bboxes,\n",
    "    x_min,\n",
    "    x_max,\n",
    "    y_min,\n",
    "    y_max,\n",
    "    scale,\n",
    "    max_depth\n",
    ")\n",
    "print(intersections)"
   ]
  },
  {
   "attachments": {},
   "cell_type": "markdown",
   "metadata": {},
   "source": [
    "quadtree_point_in_polygon\n",
    "\n",
    "https://github.com/rapidsai/cuspatial/blob/branch-23.06/python/cuspatial/cuspatial/core/spatial/join.py#L165\n",
    "\n",
    "    result : cudf.DataFrame\n",
    "        Indices for each intersecting point and polygon pair.\n",
    "\n",
    "CUDA kernel:\n",
    "\n",
    "https://github.com/rapidsai/cuspatial/blob/branch-23.06/cpp/src/join/quadtree_point_in_polygon.cu "
   ]
  },
  {
   "cell_type": "code",
   "execution_count": 74,
   "metadata": {},
   "outputs": [
    {
     "name": "stdout",
     "output_type": "stream",
     "text": [
      "total join pairs: 6\n",
      "time: 34.20400619506836 ms\n",
      "   polygon_index  point_index\n",
      "0              0            0\n",
      "1              1            1\n",
      "2              2            2\n",
      "3              3            3\n",
      "4              4            4\n",
      "5              4            5\n"
     ]
    }
   ],
   "source": [
    "# Only the points are indexed, not the polygons\n",
    "start = time.time()\n",
    "polygons_and_points = cuspatial.quadtree_point_in_polygon(\n",
    "    intersections,\n",
    "    quadtree,\n",
    "    point_indices,\n",
    "    points_gpu,\n",
    "    polygons_gpu\n",
    ")\n",
    "end = time.time()\n",
    "print('total join pairs:', polygons_and_points['polygon_index'].count())\n",
    "print('time: {} ms'.format(1000 * (end - start)))\n",
    "print(polygons_and_points)"
   ]
  },
  {
   "attachments": {},
   "cell_type": "markdown",
   "metadata": {},
   "source": [
    "## Batch Indexed Join"
   ]
  },
  {
   "cell_type": "code",
   "execution_count": 75,
   "metadata": {},
   "outputs": [
    {
     "name": "stdout",
     "output_type": "stream",
     "text": [
      "batch:  0\n",
      "0    POLYGON ((6964.690 1060.650, 6964.690 1061.650...\n",
      "Name: geometry, dtype: geometry\n",
      "0    POLYGON ((6964.690 1060.650, 6964.690 1061.650...\n",
      "Name: geometry, dtype: geometry\n",
      "      minx     miny     maxx     maxy\n",
      "0  6964.69  1060.65  6965.69  1061.65\n",
      "   bbox_offset  quad_offset\n",
      "0            0            0\n",
      "1\n",
      "batch:  1\n",
      "1    POLYGON ((2861.390 7454.710, 2861.390 7455.710...\n",
      "Name: geometry, dtype: geometry\n",
      "1    POLYGON ((2861.390 7454.710, 2861.390 7455.710...\n",
      "Name: geometry, dtype: geometry\n",
      "      minx     miny     maxx     maxy\n",
      "0  2861.39  7454.71  2862.39  7455.71\n",
      "   bbox_offset  quad_offset\n",
      "0            0            0\n",
      "1\n",
      "batch:  2\n",
      "2    POLYGON ((2268.510 5723.140, 2268.510 5724.140...\n",
      "Name: geometry, dtype: geometry\n",
      "2    POLYGON ((2268.510 5723.140, 2268.510 5724.140...\n",
      "Name: geometry, dtype: geometry\n",
      "      minx     miny     maxx     maxy\n",
      "0  2268.51  5723.14  2269.51  5724.14\n",
      "   bbox_offset  quad_offset\n",
      "0            0            0\n",
      "1\n",
      "batch:  3\n",
      "3    POLYGON ((5513.150 4582.410, 5513.150 4583.410...\n",
      "Name: geometry, dtype: geometry\n",
      "3    POLYGON ((5513.150 4582.410, 5513.150 4583.410...\n",
      "Name: geometry, dtype: geometry\n",
      "      minx     miny     maxx     maxy\n",
      "0  5513.15  4582.41  5514.15  4583.41\n",
      "   bbox_offset  quad_offset\n",
      "0            0            0\n",
      "1\n",
      "batch:  4\n",
      "4    POLYGON ((7194.690 3847.060, 7194.690 3848.060...\n",
      "Name: geometry, dtype: geometry\n",
      "4    POLYGON ((7194.690 3847.060, 7194.690 3848.060...\n",
      "Name: geometry, dtype: geometry\n",
      "      minx     miny     maxx     maxy\n",
      "0  7194.69  3847.06  7195.69  3848.06\n",
      "   bbox_offset  quad_offset\n",
      "0            0            0\n",
      "2\n"
     ]
    }
   ],
   "source": [
    "# batch processing of polygon dataset\n",
    "batch_size = 1\n",
    "batch_num = polygon_gdf['geometry'].count()\n",
    "join_count = 0\n",
    "for batch_id in range(batch_num):\n",
    "\n",
    "\tprint('batch: ', batch_id)\n",
    "\tstart_id = batch_id * batch_size\n",
    "\tend_id = (batch_id + 1) * batch_size\n",
    "\t# if end_id >= polygon_gdf['geometry'].count():\n",
    "\t#     end_id = polygon_gdf['geometry'].count() - 1\n",
    "\n",
    "\tprint(polygon_gdf['geometry'][start_id: end_id])\n",
    "\t\n",
    "\t# polygon_batch = polygons_gpu\n",
    "\tpolygon_batch = polygons_gpu[start_id: end_id]\n",
    "\tprint(polygon_batch)\n",
    "\t# polygon intersect index\n",
    "\t# poly_bboxes = cuspatial.polygon_bounding_boxes(polygon_batch)\n",
    "\tpoly_bboxes = cuspatial.polygon_bounding_boxes(polygon_batch)\n",
    "\tprint(poly_bboxes)\n",
    "\tintersections = cuspatial.join_quadtree_and_bounding_boxes(\n",
    "\t\tquadtree,\n",
    "\t\tpoly_bboxes,\n",
    "\t\tx_min,\n",
    "\t\tx_max,\n",
    "\t\ty_min,\n",
    "\t\ty_max,\n",
    "\t\tscale,\n",
    "\t\tmax_depth\n",
    "\t)\n",
    "\tprint(intersections)\n",
    "\tpolygons_and_points = cuspatial.quadtree_point_in_polygon(\n",
    "\t\tintersections,\n",
    "\t\tquadtree,\n",
    "\t\tpoint_indices,\n",
    "\t\tpoints_gpu,\n",
    "\t\tpolygon_batch\n",
    "\t)\n",
    "\tprint(polygons_and_points['polygon_index'].count())\n",
    "\tjoin_count += polygons_and_points['polygon_index'].count()"
   ]
  },
  {
   "cell_type": "code",
   "execution_count": 76,
   "metadata": {},
   "outputs": [
    {
     "data": {
      "text/plain": [
       "6"
      ]
     },
     "execution_count": 76,
     "metadata": {},
     "output_type": "execute_result"
    }
   ],
   "source": [
    "join_count"
   ]
  },
  {
   "cell_type": "code",
   "execution_count": null,
   "metadata": {},
   "outputs": [],
   "source": []
  }
 ],
 "metadata": {
  "kernelspec": {
   "display_name": "rapids-23.04",
   "language": "python",
   "name": "python3"
  },
  "language_info": {
   "codemirror_mode": {
    "name": "ipython",
    "version": 3
   },
   "file_extension": ".py",
   "mimetype": "text/x-python",
   "name": "python",
   "nbconvert_exporter": "python",
   "pygments_lexer": "ipython3",
   "version": "3.10.11"
  },
  "orig_nbformat": 4
 },
 "nbformat": 4,
 "nbformat_minor": 2
}
